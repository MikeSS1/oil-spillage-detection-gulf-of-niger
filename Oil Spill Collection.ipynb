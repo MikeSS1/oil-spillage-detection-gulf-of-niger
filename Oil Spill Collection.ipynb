{
 "cells": [
  {
   "cell_type": "markdown",
   "metadata": {
    "id": "DaEybsUTpZnK"
   },
   "source": [
    "## How to export thousands of image chips from Earth Engine in a few minutes\n",
    "\n",
    "This source code of this notebook was adopted from the Medium post - [Fast(er) Downloads](https://gorelick.medium.com/fast-er-downloads-a2abd512aa26) by Noel Gorelick. Credits to Noel.  \n",
    "\n",
    "Due to the [limitation](https://docs.python.org/3/library/multiprocessing.html) of the [multiprocessing](https://docs.python.org/3/library/multiprocessing.html) package, the functionality of this notebook can only be run in the top-level. Therefore, it could not be implemented as a function under geemap.\n",
    "\n",
    "### Install packages\n",
    "\n",
    "Uncomment the following line to install the required packages."
   ],
   "id": "DaEybsUTpZnK"
  },
  {
   "cell_type": "code",
   "execution_count": null,
   "metadata": {
    "colab": {
     "base_uri": "https://localhost:8080/"
    },
    "id": "i5-IYkDlpZnT",
    "outputId": "89edeaf7-ae02-46b1-8916-9fb47046b53d",
    "pycharm": {
     "is_executing": true
    }
   },
   "outputs": [],
   "source": [
    "pip install geemap"
   ],
   "id": "i5-IYkDlpZnT"
  },
  {
   "cell_type": "markdown",
   "metadata": {
    "id": "_NKvFsQEpZnV"
   },
   "source": [
    "### Import libraries"
   ],
   "id": "_NKvFsQEpZnV"
  },
  {
   "cell_type": "code",
   "execution_count": 2,
   "metadata": {
    "id": "G-vzlm3YpZnW"
   },
   "outputs": [],
   "source": [
    "import ee\n",
    "import geemap\n",
    "import logging\n",
    "import multiprocessing\n",
    "import os\n",
    "import requests\n",
    "import shutil\n",
    "from retry import retry"
   ],
   "id": "G-vzlm3YpZnW"
  },
  {
   "cell_type": "markdown",
   "metadata": {
    "id": "aUomib6PpZnW"
   },
   "source": [
    "### Initialize GEE to use the high-volume endpoint\n",
    "\n",
    "- [high-volume endpoint](https://developers.google.com/earth-engine/cloud/highvolume)"
   ],
   "id": "aUomib6PpZnW"
  },
  {
   "cell_type": "code",
   "execution_count": 6,
   "metadata": {
    "colab": {
     "base_uri": "https://localhost:8080/"
    },
    "id": "4aIOeYwkpZnX",
    "outputId": "d8d68f85-e98e-415f-8b6a-d32fba6872ff"
   },
   "outputs": [
    {
     "output_type": "execute_result",
     "data": {
      "text/plain": [
       "<function ee.Initialize(credentials='persistent', opt_url=None, cloud_api_key=None, http_transport=None, project=None)>"
      ]
     },
     "metadata": {},
     "execution_count": 6
    }
   ],
   "source": [
    "ee.Initialize"
   ],
   "id": "4aIOeYwkpZnX"
  },
  {
   "cell_type": "code",
   "source": [
    "pip install ee"
   ],
   "metadata": {
    "colab": {
     "base_uri": "https://localhost:8080/",
     "height": 372
    },
    "id": "E1c0KJjfqfgp",
    "outputId": "ea697f76-c488-43e3-edfe-8725f3af422c"
   },
   "id": "E1c0KJjfqfgp",
   "execution_count": 4,
   "outputs": [
    {
     "output_type": "stream",
     "name": "stdout",
     "text": [
      "Collecting ee\n",
      "  Downloading ee-0.2.tar.gz (3.0 kB)\n",
      "  Preparing metadata (setup.py) ... \u001B[?25l\u001B[?25hdone\n",
      "Collecting blessings (from ee)\n",
      "  Downloading blessings-1.7-py3-none-any.whl (18 kB)\n",
      "Requirement already satisfied: six in /usr/local/lib/python3.10/dist-packages (from blessings->ee) (1.16.0)\n",
      "Building wheels for collected packages: ee\n",
      "  Building wheel for ee (setup.py) ... \u001B[?25l\u001B[?25hdone\n",
      "  Created wheel for ee: filename=ee-0.2-py3-none-any.whl size=3655 sha256=a815e7c1cf37e75ff10e042f2ca1e7dce765d07802e8f29109e466385435ec6e\n",
      "  Stored in directory: /root/.cache/pip/wheels/cb/b1/a5/d16d395d190f232181add4c4af67a74c2de272875759921aef\n",
      "Successfully built ee\n",
      "Installing collected packages: blessings, ee\n",
      "Successfully installed blessings-1.7 ee-0.2\n"
     ]
    },
    {
     "output_type": "display_data",
     "data": {
      "application/vnd.colab-display-data+json": {
       "pip_warning": {
        "packages": [
         "ee"
        ]
       }
      }
     },
     "metadata": {}
    }
   ]
  },
  {
   "cell_type": "markdown",
   "metadata": {
    "id": "bjMVR6AFpZnX"
   },
   "source": [
    "### Create an interactive map"
   ],
   "id": "bjMVR6AFpZnX"
  },
  {
   "cell_type": "code",
   "execution_count": 21,
   "metadata": {
    "colab": {
     "base_uri": "https://localhost:8080/",
     "height": 621,
     "referenced_widgets": [
      "62df5ee385fb462bb67f90731cfb6fb6",
      "1ca1c8ad0d4d462aac95846af22d689d",
      "ca760db688fd4ead9e7f15fbd4592b76",
      "e78811e1f51b4ccf8faee4ee63b5b80f",
      "af902f6b22924ffbacfecc8be9ab4fd1",
      "cd4e80d850e949ff84989a65cc981aef",
      "c0343079ab224d54b640546b7600e61f",
      "05c3b09a7c1846d6bc12f3152c9c53c8",
      "5530a9ae1a324b05b607aa9ff30bcad1",
      "b51e69f443124f4eb358a73fdb343ee9",
      "c3245724b0be4f639fda3abb9f58bf04",
      "839e654552234612876c9c2065bdbe4b",
      "c721da4ee9774e17819b4a0882bf41c0",
      "ce572cc2aef546a7bbd65ea637b28110",
      "07f623fa930e46dd9cef5fb0ac9cae15",
      "3312cf06b49b4f42bff3c71395d5a5d5",
      "f1be64bc624d4ebea528f5fb34374eee",
      "f6ea4e36a1ab4b36a54306782a7dabb7",
      "8af685f503244fa9b1873225821329b7",
      "180b27be364745238faa395030946dd6",
      "0f77448fcd0c4cef996f04aa013851ed",
      "e620c1b0cc3d49ecb044763dc082f178",
      "9caafd9b4a394272b4d571d2c76442e6",
      "e32b74c8095c4f158b9288066e636b7d",
      "284d8f03b3124e07baa663d6659a4ee4",
      "ad9374629a784950a3a652bdd138fb26",
      "2acab91314be4aee8eb62b3f504e5d0c",
      "92518b2e61e24cb8963cbc13e44daba1"
     ]
    },
    "id": "1uHF_yympZnX",
    "outputId": "c1de938b-9ed3-4665-9f86-85f2c546a960"
   },
   "outputs": [
    {
     "output_type": "display_data",
     "data": {
      "text/plain": [
       "Map(center=[4.3, 5.9], controls=(WidgetControl(options=['position', 'transparent_bg'], widget=HBox(children=(T…"
      ],
      "application/vnd.jupyter.widget-view+json": {
       "version_major": 2,
       "version_minor": 0,
       "model_id": "62df5ee385fb462bb67f90731cfb6fb6"
      }
     },
     "metadata": {
      "application/vnd.jupyter.widget-view+json": {
       "colab": {
        "custom_widget_manager": {
         "url": "https://ssl.gstatic.com/colaboratory-static/widgets/colab-cdn-widget-manager/b3e629b1971e1542/manager.min.js"
        }
       }
      }
     }
    }
   ],
   "source": [
    "Map = geemap.Map()\n",
    "import geemap\n",
    "\n",
    "Map = geemap.Map()\n",
    "\n",
    "imgVV = ee.ImageCollection('COPERNICUS/S1_GRD') \\\n",
    "        .filter(ee.Filter.listContains('transmitterReceiverPolarisation', 'VV')) \\\n",
    "        .filter(ee.Filter.eq('instrumentMode', 'IW')) \\\n",
    "        .select('VV')\n",
    "\n",
    "def func_wzh(image):\n",
    "          edge = image.lt(-30.0)\n",
    "          maskedImage = image.mask().And(edge.Not())\n",
    "          return image.updateMask(maskedImage) \\\n",
    "        .map(func_wzh)\n",
    "\n",
    "desc = imgVV.filter(ee.Filter.eq('orbitProperties_pass', 'DESCENDING'))\n",
    "asc = imgVV.filter(ee.Filter.eq('orbitProperties_pass', 'ASCENDING'))\n",
    "\n",
    "spAugL = ee.Filter.date('2020-08-30', '2020-09-15')\n",
    "\n",
    "spImgAugL = asc.filter(spAugL).mean()\n",
    "\n",
    "Map.setCenter(5.9, 4.3, 12)\n",
    "Map.addLayer(spImgAugL, {'min': -25, 'max': 5}, 'Late August Spill', True)\n",
    "\n",
    "Map"
   ],
   "id": "1uHF_yympZnX"
  },
  {
   "cell_type": "markdown",
   "metadata": {
    "id": "9tpumXsMpZnY"
   },
   "source": [
    "### Define the Region of Interest (ROI)\n",
    "\n",
    "You can use the drawing tools on the map to draw an ROI, then you can use `Map.user_roi` to retrieve the geometry. Alternatively, you can define the ROI as an ee.Geometry as shown below."
   ],
   "id": "9tpumXsMpZnY"
  },
  {
   "cell_type": "code",
   "execution_count": 23,
   "metadata": {
    "id": "sOUIpH-lpZnY"
   },
   "outputs": [],
   "source": [
    "# region = Map.user_roi\n",
    "region = ee.Geometry.Polygon(\n",
    "    [\n",
    "        [\n",
    "[5.909271, 4.270067],\n",
    "   [6.006432, 4.270067],\n",
    "   [6.006432, 4.370374],\n",
    "   [5.909271, 4.370374],\n",
    "   [5.909271, 4.270067]]\n",
    "    ],\n",
    "    None,\n",
    "    False,\n",
    ")"
   ],
   "id": "sOUIpH-lpZnY"
  },
  {
   "cell_type": "code",
   "source": [
    "region = Map.user_roi\n",
    "region.getInfo()"
   ],
   "metadata": {
    "colab": {
     "base_uri": "https://localhost:8080/"
    },
    "id": "VErxw_q6rDJX",
    "outputId": "4e3bc6b9-d3fd-4e62-f65d-0529112c78c1"
   },
   "id": "VErxw_q6rDJX",
   "execution_count": 22,
   "outputs": [
    {
     "output_type": "execute_result",
     "data": {
      "text/plain": [
       "{'type': 'Polygon',\n",
       " 'coordinates': [[[5.909271, 4.270067],\n",
       "   [6.006432, 4.270067],\n",
       "   [6.006432, 4.370374],\n",
       "   [5.909271, 4.370374],\n",
       "   [5.909271, 4.270067]]]}"
      ]
     },
     "metadata": {},
     "execution_count": 22
    }
   ]
  },
  {
   "cell_type": "markdown",
   "metadata": {
    "id": "lGH0kjPvpZnZ"
   },
   "source": [
    "### Define the image source\n",
    "\n",
    "Using the 1-m [NAIP imagery](https://developers.google.com/earth-engine/datasets/catalog/USDA_NAIP_DOQQ)."
   ],
   "id": "lGH0kjPvpZnZ"
  },
  {
   "cell_type": "code",
   "execution_count": 24,
   "metadata": {
    "id": "FtgQm6KypZnZ"
   },
   "outputs": [],
   "source": [
    "image = (ee.ImageCollection('COPERNICUS/S1_GRD') \\\n",
    "        .filter(ee.Filter.listContains('transmitterReceiverPolarisation', 'VV')) \\\n",
    "        .filter(ee.Filter.eq('instrumentMode', 'IW')) \\\n",
    "        .select('VV')\n",
    ")"
   ],
   "id": "FtgQm6KypZnZ"
  },
  {
   "cell_type": "markdown",
   "metadata": {
    "id": "hCNRz3u9pZnZ"
   },
   "source": [
    "Using the 10-m [Sentinel-2 imagery](https://developers.google.com/earth-engine/datasets/catalog/COPERNICUS_S2_SR#bands)."
   ],
   "id": "hCNRz3u9pZnZ"
  },
  {
   "cell_type": "code",
   "execution_count": null,
   "metadata": {
    "id": "wvXLYyHGpZna"
   },
   "outputs": [],
   "source": [
    "# image = ee.ImageCollection('COPERNICUS/S2_SR') \\\n",
    "#             .filterBounds(region) \\\n",
    "#             .filterDate('2021', '2022') \\\n",
    "#             .select('B8', 'B4', 'B3') \\\n",
    "#             .median() \\\n",
    "#             .visualize(min=0, max=4000) \\\n",
    "#             .clip(region)"
   ],
   "id": "wvXLYyHGpZna"
  },
  {
   "cell_type": "markdown",
   "metadata": {
    "id": "G0cxWBFSpZna"
   },
   "source": [
    "### Set parameters\n",
    "\n",
    "If you want the exported images to have coordinate system, change `format` to `GEO_TIFF`. Otherwise, you can use `png` or `jpg` formats."
   ],
   "id": "G0cxWBFSpZna"
  },
  {
   "cell_type": "code",
   "execution_count": 25,
   "metadata": {
    "id": "YfcUXF6tpZna"
   },
   "outputs": [],
   "source": [
    "params = {\n",
    "    'count': 50,  # How many image chips to export\n",
    "    'buffer': 127,  # The buffer distance (m) around each point\n",
    "    'scale': 100,  # The scale to do stratified sampling\n",
    "    'seed': 1,  # A randomization seed to use for subsampling.\n",
    "    'dimensions': '256x256',  # The dimension of each image chip\n",
    "    'format': \"png\",  # The output image format, can be png, jpg, ZIPPED_GEO_TIFF, GEO_TIFF, NPY\n",
    "    'prefix': 'tile_',  # The filename prefix\n",
    "    'processes': 25,  # How many processes to used for parallel processing\n",
    "    'out_dir': '.',  # The output directory. Default to the current working directly\n",
    "}"
   ],
   "id": "YfcUXF6tpZna"
  },
  {
   "cell_type": "markdown",
   "metadata": {
    "id": "I7vmm4JSpZnb"
   },
   "source": [
    "### Add layers to map"
   ],
   "id": "I7vmm4JSpZnb"
  },
  {
   "cell_type": "code",
   "execution_count": 26,
   "metadata": {
    "colab": {
     "base_uri": "https://localhost:8080/",
     "height": 621,
     "referenced_widgets": [
      "62df5ee385fb462bb67f90731cfb6fb6",
      "1ca1c8ad0d4d462aac95846af22d689d",
      "ca760db688fd4ead9e7f15fbd4592b76",
      "e78811e1f51b4ccf8faee4ee63b5b80f",
      "af902f6b22924ffbacfecc8be9ab4fd1",
      "cd4e80d850e949ff84989a65cc981aef",
      "c0343079ab224d54b640546b7600e61f",
      "05c3b09a7c1846d6bc12f3152c9c53c8",
      "5530a9ae1a324b05b607aa9ff30bcad1",
      "b51e69f443124f4eb358a73fdb343ee9",
      "c3245724b0be4f639fda3abb9f58bf04",
      "839e654552234612876c9c2065bdbe4b",
      "c721da4ee9774e17819b4a0882bf41c0",
      "ad9374629a784950a3a652bdd138fb26",
      "2acab91314be4aee8eb62b3f504e5d0c",
      "92518b2e61e24cb8963cbc13e44daba1",
      "ce572cc2aef546a7bbd65ea637b28110",
      "3312cf06b49b4f42bff3c71395d5a5d5",
      "f1be64bc624d4ebea528f5fb34374eee",
      "f6ea4e36a1ab4b36a54306782a7dabb7",
      "8af685f503244fa9b1873225821329b7",
      "180b27be364745238faa395030946dd6",
      "0f77448fcd0c4cef996f04aa013851ed",
      "e620c1b0cc3d49ecb044763dc082f178",
      "9caafd9b4a394272b4d571d2c76442e6",
      "e32b74c8095c4f158b9288066e636b7d",
      "284d8f03b3124e07baa663d6659a4ee4"
     ]
    },
    "id": "kZuhVx8KpZnb",
    "outputId": "6c526c42-af82-461f-bdf8-d097bbfdb354"
   },
   "outputs": [
    {
     "output_type": "display_data",
     "data": {
      "text/plain": [
       "Map(bottom=512001.0, center=[4.323315, 5.9458205], controls=(WidgetControl(options=['position', 'transparent_b…"
      ],
      "application/vnd.jupyter.widget-view+json": {
       "version_major": 2,
       "version_minor": 0,
       "model_id": "62df5ee385fb462bb67f90731cfb6fb6"
      }
     },
     "metadata": {
      "application/vnd.jupyter.widget-view+json": {
       "colab": {
        "custom_widget_manager": {
         "url": "https://ssl.gstatic.com/colaboratory-static/widgets/colab-cdn-widget-manager/b3e629b1971e1542/manager.min.js"
        }
       }
      }
     }
    }
   ],
   "source": [
    "Map.addLayer(image, {}, \"Image\")\n",
    "Map.addLayer(region, {}, \"ROI\", False)\n",
    "Map.setCenter(5.9458205,4.323315, 10)\n",
    "Map"
   ],
   "id": "kZuhVx8KpZnb"
  },
  {
   "cell_type": "markdown",
   "metadata": {
    "tags": [],
    "id": "OwpsO_oQpZnb"
   },
   "source": [
    "### Generate a list of work items\n",
    "\n",
    "In the example, we are going to generate 1000 points using the stratified random sampling, which requires a `classBand`. It is the name of the band containing the classes to use for stratification. If unspecified, the first band of the input image is used. Therefore, we have toADD a new band with a constant value (e.g., 1) to the image. The result of the `getRequests()`function returns a list of dictionaries containing points."
   ],
   "id": "OwpsO_oQpZnb"
  },
  {
   "cell_type": "code",
   "execution_count": 27,
   "metadata": {
    "id": "UytN-DropZnc"
   },
   "outputs": [],
   "source": [
    "def getRequests():\n",
    "    img = ee.Image(1).rename(\"Class\").addBands(image)\n",
    "    points = img.stratifiedSample(\n",
    "        numPoints=params['count'],\n",
    "        region=region,\n",
    "        scale=params['scale'],\n",
    "        seed=params['seed'],\n",
    "        geometries=True,\n",
    "    )\n",
    "    Map.data = points\n",
    "    return points.aggregate_array('.geo').getInfo()"
   ],
   "id": "UytN-DropZnc"
  },
  {
   "cell_type": "code",
   "source": [
    "from google.colab import drive\n",
    "drive.mount('/content/drive')"
   ],
   "metadata": {
    "colab": {
     "base_uri": "https://localhost:8080/"
    },
    "id": "eU_Ch8IdwqSj",
    "outputId": "cf121cb3-2365-49bd-ed52-ab6f5b6a5986"
   },
   "id": "eU_Ch8IdwqSj",
   "execution_count": 18,
   "outputs": [
    {
     "output_type": "stream",
     "name": "stdout",
     "text": [
      "Mounted at /content/drive\n"
     ]
    }
   ]
  },
  {
   "cell_type": "markdown",
   "metadata": {
    "id": "_Ky0YzdGpZnc"
   },
   "source": [
    "### Create a function for downloading image"
   ],
   "id": "_Ky0YzdGpZnc"
  },
  {
   "cell_type": "markdown",
   "metadata": {
    "id": "lMjc0yaApZnc"
   },
   "source": [
    "The `getResult()` function then takes one of those points and generates an image centered on that location, which is then downloaded as a PNG and saved to a file. This function uses `image.getThumbURL()` to select the pixels, however you could also use `image.getDownloadURL()` if you wanted the output to be in GeoTIFF or NumPy format ([source](https://gorelick.medium.com/fast-er-downloads-a2abd512aa26))."
   ],
   "id": "lMjc0yaApZnc"
  },
  {
   "cell_type": "code",
   "execution_count": 32,
   "metadata": {
    "colab": {
     "base_uri": "https://localhost:8080/",
     "height": 253
    },
    "id": "0zcmDhplpZnc",
    "outputId": "7eda9f06-3f07-475f-a0a9-d6efcf13fa52"
   },
   "outputs": [
    {
     "output_type": "error",
     "ename": "NameError",
     "evalue": "ignored",
     "traceback": [
      "\u001B[0;31m---------------------------------------------------------------------------\u001B[0m",
      "\u001B[0;31mNameError\u001B[0m                                 Traceback (most recent call last)",
      "\u001B[0;32m<ipython-input-32-e133530811af>\u001B[0m in \u001B[0;36m<cell line: 40>\u001B[0;34m()\u001B[0m\n\u001B[1;32m     38\u001B[0m \u001B[0;34m\u001B[0m\u001B[0m\n\u001B[1;32m     39\u001B[0m \u001B[0;31m# Construct the full path to save the file in your Google Drive\u001B[0m\u001B[0;34m\u001B[0m\u001B[0;34m\u001B[0m\u001B[0m\n\u001B[0;32m---> 40\u001B[0;31m \u001B[0mdrive_filename\u001B[0m \u001B[0;34m=\u001B[0m \u001B[0mos\u001B[0m\u001B[0;34m.\u001B[0m\u001B[0mpath\u001B[0m\u001B[0;34m.\u001B[0m\u001B[0mjoin\u001B[0m\u001B[0;34m(\u001B[0m\u001B[0mdrive_folder\u001B[0m\u001B[0;34m,\u001B[0m \u001B[0mfilename\u001B[0m\u001B[0;34m)\u001B[0m\u001B[0;34m\u001B[0m\u001B[0;34m\u001B[0m\u001B[0m\n\u001B[0m\u001B[1;32m     41\u001B[0m \u001B[0;34m\u001B[0m\u001B[0m\n\u001B[1;32m     42\u001B[0m \u001B[0;31m# Open the file in Google Drive and save it\u001B[0m\u001B[0;34m\u001B[0m\u001B[0;34m\u001B[0m\u001B[0m\n",
      "\u001B[0;31mNameError\u001B[0m: name 'filename' is not defined"
     ]
    }
   ],
   "source": [
    "@retry(tries=10, delay=1, backoff=2)\n",
    "def getResult(index, point):\n",
    "    point = ee.Geometry.Point(point['coordinates'])\n",
    "    region = point.buffer(params['buffer']).bounds()\n",
    "\n",
    "    if params['format'] in ['png', 'jpg']:\n",
    "        url = image.getThumbURL(\n",
    "            {\n",
    "                'region': region,\n",
    "                'dimensions': params['dimensions'],\n",
    "                'format': params['format'],\n",
    "            }\n",
    "        )\n",
    "    else:\n",
    "        url = image.getDownloadURL(\n",
    "            {\n",
    "                'region': region,\n",
    "                'dimensions': params['dimensions'],\n",
    "                'format': params['format'],\n",
    "            }\n",
    "        )\n",
    "\n",
    "    if params['format'] == \"GEO_TIFF\":\n",
    "        ext = 'tif'\n",
    "    else:\n",
    "        ext = params['format']\n",
    "\n",
    "    r = requests.get(url, stream=True)\n",
    "    if r.status_code != 200:\n",
    "        r.raise_for_status()\n",
    "# Your code to generate the filename and open the file\n",
    "    # Generate filename\n",
    "    basename = str(index).zfill(len(str(params['count'])))\n",
    "    filename = f\"{out_dir}/{params['prefix']}{basename}.{ext}\"\n",
    "\n",
    "# Specify the path to your Google Drive folder\n",
    "drive_folder = '/content/drive/MyDrive/OilSpill_Dataset'\n",
    "\n",
    "# Construct the full path to save the file in your Google Drive\n",
    "drive_filename = os.path.join(drive_folder, filename)\n",
    "\n",
    "# Open the file in Google Drive and save it\n",
    "with open(drive_filename, 'wb') as out_file:\n",
    "    shutil.copyfileobj(r.raw, out_file)\n",
    "\n",
    "print(\"Done: \", basename, \"saved in Google Drive at:\", drive_filename)"
   ],
   "id": "0zcmDhplpZnc"
  },
  {
   "cell_type": "markdown",
   "metadata": {
    "id": "nE5wz-kMpZnd"
   },
   "source": [
    "### Download images"
   ],
   "id": "nE5wz-kMpZnd"
  },
  {
   "cell_type": "code",
   "execution_count": null,
   "metadata": {
    "id": "48iU3EcCpZnd"
   },
   "outputs": [],
   "source": [
    "%%time\n",
    "logging.basicConfig()\n",
    "items = getRequests()\n",
    "\n",
    "pool = multiprocessing.Pool(params['processes'])\n",
    "pool.starmap(getResult, enumerate(items))\n",
    "\n",
    "pool.close()"
   ],
   "id": "48iU3EcCpZnd"
  },
  {
   "cell_type": "markdown",
   "metadata": {
    "id": "HqzED2GSpZnd"
   },
   "source": [
    "### Retrieve sample points"
   ],
   "id": "HqzED2GSpZnd"
  },
  {
   "cell_type": "code",
   "execution_count": null,
   "metadata": {
    "id": "VjiEFah7pZnd"
   },
   "outputs": [],
   "source": [
    "Map.addLayer(Map.data, {}, \"Sample points\")\n",
    "Map"
   ],
   "id": "VjiEFah7pZnd"
  }
 ],
 "metadata": {
  "kernelspec": {
   "display_name": "Python 3",
   "language": "python",
   "name": "python3"
  },
  "colab": {
   "provenance": []
  },
  "widgets": {
   "application/vnd.jupyter.widget-state+json": {
    "62df5ee385fb462bb67f90731cfb6fb6": {
     "model_module": "jupyter-leaflet",
     "model_name": "LeafletMapModel",
     "model_module_version": "^0.17",
     "state": {
      "_dom_classes": [],
      "_model_module": "jupyter-leaflet",
      "_model_module_version": "^0.17",
      "_model_name": "LeafletMapModel",
      "_view_count": null,
      "_view_module": "jupyter-leaflet",
      "_view_module_version": "^0.17",
      "_view_name": "LeafletMapView",
      "bottom": 511987,
      "bounce_at_zoom_limits": true,
      "box_zoom": true,
      "center": [
       4.323132110554507,
       5.946350097656251
      ],
      "close_popup_on_click": true,
      "controls": [
       "IPY_MODEL_1ca1c8ad0d4d462aac95846af22d689d",
       "IPY_MODEL_ca760db688fd4ead9e7f15fbd4592b76",
       "IPY_MODEL_e78811e1f51b4ccf8faee4ee63b5b80f",
       "IPY_MODEL_af902f6b22924ffbacfecc8be9ab4fd1",
       "IPY_MODEL_cd4e80d850e949ff84989a65cc981aef",
       "IPY_MODEL_c0343079ab224d54b640546b7600e61f",
       "IPY_MODEL_05c3b09a7c1846d6bc12f3152c9c53c8",
       "IPY_MODEL_5530a9ae1a324b05b607aa9ff30bcad1"
      ],
      "crs": {
       "name": "EPSG3857",
       "custom": false
      },
      "default_style": "IPY_MODEL_b51e69f443124f4eb358a73fdb343ee9",
      "double_click_zoom": true,
      "dragging": true,
      "dragging_style": "IPY_MODEL_c3245724b0be4f639fda3abb9f58bf04",
      "east": 6.403656005859376,
      "fullscreen": false,
      "inertia": true,
      "inertia_deceleration": 3000,
      "inertia_max_speed": 1500,
      "interpolation": "bilinear",
      "keyboard": true,
      "keyboard_pan_offset": 80,
      "keyboard_zoom_offset": 1,
      "layers": [
       "IPY_MODEL_839e654552234612876c9c2065bdbe4b",
       "IPY_MODEL_c721da4ee9774e17819b4a0882bf41c0",
       "IPY_MODEL_ad9374629a784950a3a652bdd138fb26",
       "IPY_MODEL_2acab91314be4aee8eb62b3f504e5d0c",
       "IPY_MODEL_92518b2e61e24cb8963cbc13e44daba1"
      ],
      "layout": "IPY_MODEL_ce572cc2aef546a7bbd65ea637b28110",
      "left": 135069,
      "max_zoom": 24,
      "min_zoom": null,
      "modisdate": "2023-09-29",
      "north": 4.424801977253307,
      "options": [
       "bounce_at_zoom_limits",
       "box_zoom",
       "center",
       "close_popup_on_click",
       "double_click_zoom",
       "dragging",
       "fullscreen",
       "inertia",
       "inertia_deceleration",
       "inertia_max_speed",
       "interpolation",
       "keyboard",
       "keyboard_pan_offset",
       "keyboard_zoom_offset",
       "max_zoom",
       "min_zoom",
       "prefer_canvas",
       "scroll_wheel_zoom",
       "tap",
       "tap_tolerance",
       "touch_zoom",
       "world_copy_jump",
       "zoom",
       "zoom_animation_threshold",
       "zoom_delta",
       "zoom_snap"
      ],
      "panes": {},
      "prefer_canvas": false,
      "right": 135735,
      "scroll_wheel_zoom": true,
      "south": 4.21939425302787,
      "style": "IPY_MODEL_b51e69f443124f4eb358a73fdb343ee9",
      "tap": true,
      "tap_tolerance": 15,
      "top": 511387,
      "touch_zoom": true,
      "west": 5.489044189453126,
      "window_url": "https://3k4nntpwuq-496ff2e9c6d22116-0-colab.googleusercontent.com/outputframe.html?vrz=colab_20230928-060113_RC00_569118767",
      "world_copy_jump": false,
      "zoom": 12,
      "zoom_animation_threshold": 4,
      "zoom_delta": 1,
      "zoom_snap": 1
     }
    },
    "1ca1c8ad0d4d462aac95846af22d689d": {
     "model_module": "jupyter-leaflet",
     "model_name": "LeafletWidgetControlModel",
     "model_module_version": "^0.17",
     "state": {
      "_model_module": "jupyter-leaflet",
      "_model_module_version": "^0.17",
      "_model_name": "LeafletWidgetControlModel",
      "_view_count": null,
      "_view_module": "jupyter-leaflet",
      "_view_module_version": "^0.17",
      "_view_name": "LeafletWidgetControlView",
      "max_height": null,
      "max_width": null,
      "min_height": null,
      "min_width": null,
      "options": [
       "position",
       "transparent_bg"
      ],
      "position": "topleft",
      "transparent_bg": false,
      "widget": "IPY_MODEL_3312cf06b49b4f42bff3c71395d5a5d5"
     }
    },
    "ca760db688fd4ead9e7f15fbd4592b76": {
     "model_module": "jupyter-leaflet",
     "model_name": "LeafletZoomControlModel",
     "model_module_version": "^0.17",
     "state": {
      "_model_module": "jupyter-leaflet",
      "_model_module_version": "^0.17",
      "_model_name": "LeafletZoomControlModel",
      "_view_count": null,
      "_view_module": "jupyter-leaflet",
      "_view_module_version": "^0.17",
      "_view_name": "LeafletZoomControlView",
      "options": [
       "position",
       "zoom_in_text",
       "zoom_in_title",
       "zoom_out_text",
       "zoom_out_title"
      ],
      "position": "topleft",
      "zoom_in_text": "+",
      "zoom_in_title": "Zoom in",
      "zoom_out_text": "-",
      "zoom_out_title": "Zoom out"
     }
    },
    "e78811e1f51b4ccf8faee4ee63b5b80f": {
     "model_module": "jupyter-leaflet",
     "model_name": "LeafletFullScreenControlModel",
     "model_module_version": "^0.17",
     "state": {
      "_model_module": "jupyter-leaflet",
      "_model_module_version": "^0.17",
      "_model_name": "LeafletFullScreenControlModel",
      "_view_count": null,
      "_view_module": "jupyter-leaflet",
      "_view_module_version": "^0.17",
      "_view_name": "LeafletFullScreenControlView",
      "options": [
       "position"
      ],
      "position": "topleft"
     }
    },
    "af902f6b22924ffbacfecc8be9ab4fd1": {
     "model_module": "jupyter-leaflet",
     "model_name": "LeafletDrawControlModel",
     "model_module_version": "^0.17",
     "state": {
      "_model_module": "jupyter-leaflet",
      "_model_module_version": "^0.17",
      "_model_name": "LeafletDrawControlModel",
      "_view_count": null,
      "_view_module": "jupyter-leaflet",
      "_view_module_version": "^0.17",
      "_view_name": "LeafletDrawControlView",
      "circle": {},
      "circlemarker": {},
      "data": [
       {
        "type": "Feature",
        "properties": {
         "style": {
          "stroke": true,
          "color": "#3388ff",
          "weight": 4,
          "opacity": 0.5,
          "fill": true,
          "fillColor": null,
          "fillOpacity": 0.2,
          "clickable": true
         }
        },
        "geometry": {
         "type": "Polygon",
         "coordinates": [
          [
           [
            5.909271,
            4.270067
           ],
           [
            5.909271,
            4.370374
           ],
           [
            6.006432,
            4.370374
           ],
           [
            6.006432,
            4.270067
           ],
           [
            5.909271,
            4.270067
           ]
          ]
         ]
        }
       }
      ],
      "edit": true,
      "marker": {
       "shapeOptions": {
        "color": "#3388ff"
       }
      },
      "options": [
       "position"
      ],
      "polygon": {
       "shapeOptions": {}
      },
      "polyline": {
       "shapeOptions": {}
      },
      "position": "topleft",
      "rectangle": {
       "shapeOptions": {
        "color": "#3388ff"
       }
      },
      "remove": true
     }
    },
    "cd4e80d850e949ff84989a65cc981aef": {
     "model_module": "jupyter-leaflet",
     "model_name": "LeafletScaleControlModel",
     "model_module_version": "^0.17",
     "state": {
      "_model_module": "jupyter-leaflet",
      "_model_module_version": "^0.17",
      "_model_name": "LeafletScaleControlModel",
      "_view_count": null,
      "_view_module": "jupyter-leaflet",
      "_view_module_version": "^0.17",
      "_view_name": "LeafletScaleControlView",
      "imperial": true,
      "max_width": 100,
      "metric": true,
      "options": [
       "imperial",
       "max_width",
       "metric",
       "position",
       "update_when_idle"
      ],
      "position": "bottomleft",
      "update_when_idle": false
     }
    },
    "c0343079ab224d54b640546b7600e61f": {
     "model_module": "jupyter-leaflet",
     "model_name": "LeafletMeasureControlModel",
     "model_module_version": "^0.17",
     "state": {
      "_custom_units": {},
      "_model_module": "jupyter-leaflet",
      "_model_module_version": "^0.17",
      "_model_name": "LeafletMeasureControlModel",
      "_view_count": null,
      "_view_module": "jupyter-leaflet",
      "_view_module_version": "^0.17",
      "_view_name": "LeafletMeasureControlView",
      "active_color": "orange",
      "capture_z_index": 10000,
      "completed_color": "#C8F2BE",
      "options": [
       "active_color",
       "capture_z_index",
       "completed_color",
       "popup_options",
       "position",
       "primary_area_unit",
       "primary_length_unit",
       "secondary_area_unit",
       "secondary_length_unit"
      ],
      "popup_options": {
       "className": "leaflet-measure-resultpopup",
       "autoPanPadding": [
        10,
        10
       ]
      },
      "position": "bottomleft",
      "primary_area_unit": "acres",
      "primary_length_unit": "kilometers",
      "secondary_area_unit": null,
      "secondary_length_unit": null
     }
    },
    "05c3b09a7c1846d6bc12f3152c9c53c8": {
     "model_module": "jupyter-leaflet",
     "model_name": "LeafletWidgetControlModel",
     "model_module_version": "^0.17",
     "state": {
      "_model_module": "jupyter-leaflet",
      "_model_module_version": "^0.17",
      "_model_name": "LeafletWidgetControlModel",
      "_view_count": null,
      "_view_module": "jupyter-leaflet",
      "_view_module_version": "^0.17",
      "_view_name": "LeafletWidgetControlView",
      "max_height": null,
      "max_width": null,
      "min_height": null,
      "min_width": null,
      "options": [
       "position",
       "transparent_bg"
      ],
      "position": "topright",
      "transparent_bg": false,
      "widget": "IPY_MODEL_f1be64bc624d4ebea528f5fb34374eee"
     }
    },
    "5530a9ae1a324b05b607aa9ff30bcad1": {
     "model_module": "jupyter-leaflet",
     "model_name": "LeafletAttributionControlModel",
     "model_module_version": "^0.17",
     "state": {
      "_model_module": "jupyter-leaflet",
      "_model_module_version": "^0.17",
      "_model_name": "LeafletAttributionControlModel",
      "_view_count": null,
      "_view_module": "jupyter-leaflet",
      "_view_module_version": "^0.17",
      "_view_name": "LeafletAttributionControlView",
      "options": [
       "position",
       "prefix"
      ],
      "position": "bottomright",
      "prefix": "ipyleaflet"
     }
    },
    "b51e69f443124f4eb358a73fdb343ee9": {
     "model_module": "jupyter-leaflet",
     "model_name": "LeafletMapStyleModel",
     "model_module_version": "^0.17",
     "state": {
      "_model_module": "jupyter-leaflet",
      "_model_module_version": "^0.17",
      "_model_name": "LeafletMapStyleModel",
      "_view_count": null,
      "_view_module": "@jupyter-widgets/base",
      "_view_module_version": "1.2.0",
      "_view_name": "StyleView",
      "cursor": "grab"
     }
    },
    "c3245724b0be4f639fda3abb9f58bf04": {
     "model_module": "jupyter-leaflet",
     "model_name": "LeafletMapStyleModel",
     "model_module_version": "^0.17",
     "state": {
      "_model_module": "jupyter-leaflet",
      "_model_module_version": "^0.17",
      "_model_name": "LeafletMapStyleModel",
      "_view_count": null,
      "_view_module": "@jupyter-widgets/base",
      "_view_module_version": "1.2.0",
      "_view_name": "StyleView",
      "cursor": "move"
     }
    },
    "839e654552234612876c9c2065bdbe4b": {
     "model_module": "jupyter-leaflet",
     "model_name": "LeafletTileLayerModel",
     "model_module_version": "^0.17",
     "state": {
      "_model_module": "jupyter-leaflet",
      "_model_module_version": "^0.17",
      "_model_name": "LeafletTileLayerModel",
      "_view_count": null,
      "_view_module": "jupyter-leaflet",
      "_view_module_version": "^0.17",
      "_view_name": "LeafletTileLayerView",
      "attribution": "&copy; <a href=\"https://www.openstreetmap.org/copyright\">OpenStreetMap</a> contributors",
      "base": true,
      "bottom": true,
      "bounds": null,
      "detect_retina": false,
      "loading": false,
      "max_native_zoom": null,
      "max_zoom": 19,
      "min_native_zoom": null,
      "min_zoom": 1,
      "name": "OpenStreetMap.Mapnik",
      "no_wrap": false,
      "opacity": 1,
      "options": [
       "attribution",
       "bounds",
       "detect_retina",
       "max_native_zoom",
       "max_zoom",
       "min_native_zoom",
       "min_zoom",
       "no_wrap",
       "tile_size",
       "tms",
       "zoom_offset"
      ],
      "pane": "",
      "popup": null,
      "popup_max_height": null,
      "popup_max_width": 300,
      "popup_min_width": 50,
      "show_loading": false,
      "subitems": [],
      "tile_size": 256,
      "tms": false,
      "url": "https://tile.openstreetmap.org/{z}/{x}/{y}.png",
      "visible": true,
      "zoom_offset": 0
     }
    },
    "c721da4ee9774e17819b4a0882bf41c0": {
     "model_module": "jupyter-leaflet",
     "model_name": "LeafletTileLayerModel",
     "model_module_version": "^0.17",
     "state": {
      "_model_module": "jupyter-leaflet",
      "_model_module_version": "^0.17",
      "_model_name": "LeafletTileLayerModel",
      "_view_count": null,
      "_view_module": "jupyter-leaflet",
      "_view_module_version": "^0.17",
      "_view_name": "LeafletTileLayerView",
      "attribution": "Google Earth Engine",
      "base": false,
      "bottom": true,
      "bounds": null,
      "detect_retina": false,
      "loading": false,
      "max_native_zoom": null,
      "max_zoom": 24,
      "min_native_zoom": null,
      "min_zoom": 0,
      "name": "Late August Spill",
      "no_wrap": false,
      "opacity": 1,
      "options": [
       "attribution",
       "bounds",
       "detect_retina",
       "max_native_zoom",
       "max_zoom",
       "min_native_zoom",
       "min_zoom",
       "no_wrap",
       "tile_size",
       "tms",
       "zoom_offset"
      ],
      "pane": "",
      "popup": null,
      "popup_max_height": null,
      "popup_max_width": 300,
      "popup_min_width": 50,
      "show_loading": false,
      "subitems": [],
      "tile_size": 256,
      "tms": false,
      "url": "https://earthengine.googleapis.com/v1/projects/earthengine-legacy/maps/573aae6403f3a54eb0032e7206982b89-ab77e2fe3a835fa15ecaee58a7c604bf/tiles/{z}/{x}/{y}",
      "visible": true,
      "zoom_offset": 0
     }
    },
    "ce572cc2aef546a7bbd65ea637b28110": {
     "model_module": "@jupyter-widgets/base",
     "model_name": "LayoutModel",
     "model_module_version": "1.2.0",
     "state": {
      "_model_module": "@jupyter-widgets/base",
      "_model_module_version": "1.2.0",
      "_model_name": "LayoutModel",
      "_view_count": null,
      "_view_module": "@jupyter-widgets/base",
      "_view_module_version": "1.2.0",
      "_view_name": "LayoutView",
      "align_content": null,
      "align_items": null,
      "align_self": null,
      "border": null,
      "bottom": null,
      "display": null,
      "flex": null,
      "flex_flow": null,
      "grid_area": null,
      "grid_auto_columns": null,
      "grid_auto_flow": null,
      "grid_auto_rows": null,
      "grid_column": null,
      "grid_gap": null,
      "grid_row": null,
      "grid_template_areas": null,
      "grid_template_columns": null,
      "grid_template_rows": null,
      "height": "600px",
      "justify_content": null,
      "justify_items": null,
      "left": null,
      "margin": null,
      "max_height": null,
      "max_width": null,
      "min_height": null,
      "min_width": null,
      "object_fit": null,
      "object_position": null,
      "order": null,
      "overflow": null,
      "overflow_x": null,
      "overflow_y": null,
      "padding": null,
      "right": null,
      "top": null,
      "visibility": null,
      "width": null
     }
    },
    "07f623fa930e46dd9cef5fb0ac9cae15": {
     "model_module": "jupyter-leaflet",
     "model_name": "LeafletMapStyleModel",
     "model_module_version": "^0.17",
     "state": {
      "_model_module": "jupyter-leaflet",
      "_model_module_version": "^0.17",
      "_model_name": "LeafletMapStyleModel",
      "_view_count": null,
      "_view_module": "@jupyter-widgets/base",
      "_view_module_version": "1.2.0",
      "_view_name": "StyleView",
      "cursor": "grab"
     }
    },
    "3312cf06b49b4f42bff3c71395d5a5d5": {
     "model_module": "@jupyter-widgets/controls",
     "model_name": "HBoxModel",
     "model_module_version": "1.5.0",
     "state": {
      "_dom_classes": [],
      "_model_module": "@jupyter-widgets/controls",
      "_model_module_version": "1.5.0",
      "_model_name": "HBoxModel",
      "_view_count": null,
      "_view_module": "@jupyter-widgets/controls",
      "_view_module_version": "1.5.0",
      "_view_name": "HBoxView",
      "box_style": "",
      "children": [
       "IPY_MODEL_f6ea4e36a1ab4b36a54306782a7dabb7"
      ],
      "layout": "IPY_MODEL_8af685f503244fa9b1873225821329b7"
     }
    },
    "f1be64bc624d4ebea528f5fb34374eee": {
     "model_module": "@jupyter-widgets/controls",
     "model_name": "VBoxModel",
     "model_module_version": "1.5.0",
     "state": {
      "_dom_classes": [],
      "_model_module": "@jupyter-widgets/controls",
      "_model_module_version": "1.5.0",
      "_model_name": "VBoxModel",
      "_view_count": null,
      "_view_module": "@jupyter-widgets/controls",
      "_view_module_version": "1.5.0",
      "_view_name": "VBoxView",
      "box_style": "",
      "children": [
       "IPY_MODEL_180b27be364745238faa395030946dd6"
      ],
      "layout": "IPY_MODEL_0f77448fcd0c4cef996f04aa013851ed"
     }
    },
    "f6ea4e36a1ab4b36a54306782a7dabb7": {
     "model_module": "@jupyter-widgets/controls",
     "model_name": "ToggleButtonModel",
     "model_module_version": "1.5.0",
     "state": {
      "_dom_classes": [],
      "_model_module": "@jupyter-widgets/controls",
      "_model_module_version": "1.5.0",
      "_model_name": "ToggleButtonModel",
      "_view_count": null,
      "_view_module": "@jupyter-widgets/controls",
      "_view_module_version": "1.5.0",
      "_view_name": "ToggleButtonView",
      "button_style": "",
      "description": "",
      "description_tooltip": null,
      "disabled": false,
      "icon": "globe",
      "layout": "IPY_MODEL_e620c1b0cc3d49ecb044763dc082f178",
      "style": "IPY_MODEL_9caafd9b4a394272b4d571d2c76442e6",
      "tooltip": "Search location/data",
      "value": false
     }
    },
    "8af685f503244fa9b1873225821329b7": {
     "model_module": "@jupyter-widgets/base",
     "model_name": "LayoutModel",
     "model_module_version": "1.2.0",
     "state": {
      "_model_module": "@jupyter-widgets/base",
      "_model_module_version": "1.2.0",
      "_model_name": "LayoutModel",
      "_view_count": null,
      "_view_module": "@jupyter-widgets/base",
      "_view_module_version": "1.2.0",
      "_view_name": "LayoutView",
      "align_content": null,
      "align_items": null,
      "align_self": null,
      "border": null,
      "bottom": null,
      "display": null,
      "flex": null,
      "flex_flow": null,
      "grid_area": null,
      "grid_auto_columns": null,
      "grid_auto_flow": null,
      "grid_auto_rows": null,
      "grid_column": null,
      "grid_gap": null,
      "grid_row": null,
      "grid_template_areas": null,
      "grid_template_columns": null,
      "grid_template_rows": null,
      "height": null,
      "justify_content": null,
      "justify_items": null,
      "left": null,
      "margin": null,
      "max_height": null,
      "max_width": null,
      "min_height": null,
      "min_width": null,
      "object_fit": null,
      "object_position": null,
      "order": null,
      "overflow": null,
      "overflow_x": null,
      "overflow_y": null,
      "padding": null,
      "right": null,
      "top": null,
      "visibility": null,
      "width": null
     }
    },
    "180b27be364745238faa395030946dd6": {
     "model_module": "@jupyter-widgets/controls",
     "model_name": "ToggleButtonModel",
     "model_module_version": "1.5.0",
     "state": {
      "_dom_classes": [],
      "_model_module": "@jupyter-widgets/controls",
      "_model_module_version": "1.5.0",
      "_model_name": "ToggleButtonModel",
      "_view_count": null,
      "_view_module": "@jupyter-widgets/controls",
      "_view_module_version": "1.5.0",
      "_view_name": "ToggleButtonView",
      "button_style": "",
      "description": "",
      "description_tooltip": null,
      "disabled": false,
      "icon": "wrench",
      "layout": "IPY_MODEL_e32b74c8095c4f158b9288066e636b7d",
      "style": "IPY_MODEL_284d8f03b3124e07baa663d6659a4ee4",
      "tooltip": "Toolbar",
      "value": false
     }
    },
    "0f77448fcd0c4cef996f04aa013851ed": {
     "model_module": "@jupyter-widgets/base",
     "model_name": "LayoutModel",
     "model_module_version": "1.2.0",
     "state": {
      "_model_module": "@jupyter-widgets/base",
      "_model_module_version": "1.2.0",
      "_model_name": "LayoutModel",
      "_view_count": null,
      "_view_module": "@jupyter-widgets/base",
      "_view_module_version": "1.2.0",
      "_view_name": "LayoutView",
      "align_content": null,
      "align_items": null,
      "align_self": null,
      "border": null,
      "bottom": null,
      "display": null,
      "flex": null,
      "flex_flow": null,
      "grid_area": null,
      "grid_auto_columns": null,
      "grid_auto_flow": null,
      "grid_auto_rows": null,
      "grid_column": null,
      "grid_gap": null,
      "grid_row": null,
      "grid_template_areas": null,
      "grid_template_columns": null,
      "grid_template_rows": null,
      "height": null,
      "justify_content": null,
      "justify_items": null,
      "left": null,
      "margin": null,
      "max_height": null,
      "max_width": null,
      "min_height": null,
      "min_width": null,
      "object_fit": null,
      "object_position": null,
      "order": null,
      "overflow": null,
      "overflow_x": null,
      "overflow_y": null,
      "padding": null,
      "right": null,
      "top": null,
      "visibility": null,
      "width": null
     }
    },
    "e620c1b0cc3d49ecb044763dc082f178": {
     "model_module": "@jupyter-widgets/base",
     "model_name": "LayoutModel",
     "model_module_version": "1.2.0",
     "state": {
      "_model_module": "@jupyter-widgets/base",
      "_model_module_version": "1.2.0",
      "_model_name": "LayoutModel",
      "_view_count": null,
      "_view_module": "@jupyter-widgets/base",
      "_view_module_version": "1.2.0",
      "_view_name": "LayoutView",
      "align_content": null,
      "align_items": null,
      "align_self": null,
      "border": null,
      "bottom": null,
      "display": null,
      "flex": null,
      "flex_flow": null,
      "grid_area": null,
      "grid_auto_columns": null,
      "grid_auto_flow": null,
      "grid_auto_rows": null,
      "grid_column": null,
      "grid_gap": null,
      "grid_row": null,
      "grid_template_areas": null,
      "grid_template_columns": null,
      "grid_template_rows": null,
      "height": "28px",
      "justify_content": null,
      "justify_items": null,
      "left": null,
      "margin": null,
      "max_height": null,
      "max_width": null,
      "min_height": null,
      "min_width": null,
      "object_fit": null,
      "object_position": null,
      "order": null,
      "overflow": null,
      "overflow_x": null,
      "overflow_y": null,
      "padding": "0px 0px 0px 4px",
      "right": null,
      "top": null,
      "visibility": null,
      "width": "28px"
     }
    },
    "9caafd9b4a394272b4d571d2c76442e6": {
     "model_module": "@jupyter-widgets/controls",
     "model_name": "DescriptionStyleModel",
     "model_module_version": "1.5.0",
     "state": {
      "_model_module": "@jupyter-widgets/controls",
      "_model_module_version": "1.5.0",
      "_model_name": "DescriptionStyleModel",
      "_view_count": null,
      "_view_module": "@jupyter-widgets/base",
      "_view_module_version": "1.2.0",
      "_view_name": "StyleView",
      "description_width": ""
     }
    },
    "e32b74c8095c4f158b9288066e636b7d": {
     "model_module": "@jupyter-widgets/base",
     "model_name": "LayoutModel",
     "model_module_version": "1.2.0",
     "state": {
      "_model_module": "@jupyter-widgets/base",
      "_model_module_version": "1.2.0",
      "_model_name": "LayoutModel",
      "_view_count": null,
      "_view_module": "@jupyter-widgets/base",
      "_view_module_version": "1.2.0",
      "_view_name": "LayoutView",
      "align_content": null,
      "align_items": null,
      "align_self": null,
      "border": null,
      "bottom": null,
      "display": null,
      "flex": null,
      "flex_flow": null,
      "grid_area": null,
      "grid_auto_columns": null,
      "grid_auto_flow": null,
      "grid_auto_rows": null,
      "grid_column": null,
      "grid_gap": null,
      "grid_row": null,
      "grid_template_areas": null,
      "grid_template_columns": null,
      "grid_template_rows": null,
      "height": "28px",
      "justify_content": null,
      "justify_items": null,
      "left": null,
      "margin": null,
      "max_height": null,
      "max_width": null,
      "min_height": null,
      "min_width": null,
      "object_fit": null,
      "object_position": null,
      "order": null,
      "overflow": null,
      "overflow_x": null,
      "overflow_y": null,
      "padding": "0px 0px 0px 4px",
      "right": null,
      "top": null,
      "visibility": null,
      "width": "28px"
     }
    },
    "284d8f03b3124e07baa663d6659a4ee4": {
     "model_module": "@jupyter-widgets/controls",
     "model_name": "DescriptionStyleModel",
     "model_module_version": "1.5.0",
     "state": {
      "_model_module": "@jupyter-widgets/controls",
      "_model_module_version": "1.5.0",
      "_model_name": "DescriptionStyleModel",
      "_view_count": null,
      "_view_module": "@jupyter-widgets/base",
      "_view_module_version": "1.2.0",
      "_view_name": "StyleView",
      "description_width": ""
     }
    },
    "ad9374629a784950a3a652bdd138fb26": {
     "model_module": "jupyter-leaflet",
     "model_name": "LeafletTileLayerModel",
     "model_module_version": "^0.17",
     "state": {
      "_model_module": "jupyter-leaflet",
      "_model_module_version": "^0.17",
      "_model_name": "LeafletTileLayerModel",
      "_view_count": null,
      "_view_module": "jupyter-leaflet",
      "_view_module_version": "^0.17",
      "_view_name": "LeafletTileLayerView",
      "attribution": "Google Earth Engine",
      "base": false,
      "bottom": true,
      "bounds": null,
      "detect_retina": false,
      "loading": false,
      "max_native_zoom": null,
      "max_zoom": 24,
      "min_native_zoom": null,
      "min_zoom": 0,
      "name": "Drawn Features",
      "no_wrap": false,
      "opacity": 0.5,
      "options": [
       "attribution",
       "bounds",
       "detect_retina",
       "max_native_zoom",
       "max_zoom",
       "min_native_zoom",
       "min_zoom",
       "no_wrap",
       "tile_size",
       "tms",
       "zoom_offset"
      ],
      "pane": "",
      "popup": null,
      "popup_max_height": null,
      "popup_max_width": 300,
      "popup_min_width": 50,
      "show_loading": false,
      "subitems": [],
      "tile_size": 256,
      "tms": false,
      "url": "https://earthengine.googleapis.com/v1/projects/earthengine-legacy/maps/45f5c803ad4a0c3e7b380621f62bcc5a-8f612f1dd395bdc5d07a94ddbfd7a9b7/tiles/{z}/{x}/{y}",
      "visible": false,
      "zoom_offset": 0
     }
    },
    "2acab91314be4aee8eb62b3f504e5d0c": {
     "model_module": "jupyter-leaflet",
     "model_name": "LeafletTileLayerModel",
     "model_module_version": "^0.17",
     "state": {
      "_model_module": "jupyter-leaflet",
      "_model_module_version": "^0.17",
      "_model_name": "LeafletTileLayerModel",
      "_view_count": null,
      "_view_module": "jupyter-leaflet",
      "_view_module_version": "^0.17",
      "_view_name": "LeafletTileLayerView",
      "attribution": "Google Earth Engine",
      "base": false,
      "bottom": true,
      "bounds": null,
      "detect_retina": false,
      "loading": false,
      "max_native_zoom": null,
      "max_zoom": 24,
      "min_native_zoom": null,
      "min_zoom": 0,
      "name": "Image",
      "no_wrap": false,
      "opacity": 1,
      "options": [
       "attribution",
       "bounds",
       "detect_retina",
       "max_native_zoom",
       "max_zoom",
       "min_native_zoom",
       "min_zoom",
       "no_wrap",
       "tile_size",
       "tms",
       "zoom_offset"
      ],
      "pane": "",
      "popup": null,
      "popup_max_height": null,
      "popup_max_width": 300,
      "popup_min_width": 50,
      "show_loading": false,
      "subitems": [],
      "tile_size": 256,
      "tms": false,
      "url": "https://earthengine.googleapis.com/v1/projects/earthengine-legacy/maps/02a0e011714c6fd140ca3372047b9cb4-0e76b6ef52ac3eef1d0f1dc791a5edd4/tiles/{z}/{x}/{y}",
      "visible": true,
      "zoom_offset": 0
     }
    },
    "92518b2e61e24cb8963cbc13e44daba1": {
     "model_module": "jupyter-leaflet",
     "model_name": "LeafletTileLayerModel",
     "model_module_version": "^0.17",
     "state": {
      "_model_module": "jupyter-leaflet",
      "_model_module_version": "^0.17",
      "_model_name": "LeafletTileLayerModel",
      "_view_count": null,
      "_view_module": "jupyter-leaflet",
      "_view_module_version": "^0.17",
      "_view_name": "LeafletTileLayerView",
      "attribution": "Google Earth Engine",
      "base": false,
      "bottom": true,
      "bounds": null,
      "detect_retina": false,
      "loading": false,
      "max_native_zoom": null,
      "max_zoom": 24,
      "min_native_zoom": null,
      "min_zoom": 0,
      "name": "ROI",
      "no_wrap": false,
      "opacity": 1,
      "options": [
       "attribution",
       "bounds",
       "detect_retina",
       "max_native_zoom",
       "max_zoom",
       "min_native_zoom",
       "min_zoom",
       "no_wrap",
       "tile_size",
       "tms",
       "zoom_offset"
      ],
      "pane": "",
      "popup": null,
      "popup_max_height": null,
      "popup_max_width": 300,
      "popup_min_width": 50,
      "show_loading": false,
      "subitems": [],
      "tile_size": 256,
      "tms": false,
      "url": "https://earthengine.googleapis.com/v1/projects/earthengine-legacy/maps/c1d59210e890ad53283a9fe59725cec7-9647320a2c36ce47a0674c774ac78dc0/tiles/{z}/{x}/{y}",
      "visible": false,
      "zoom_offset": 0
     }
    }
   }
  }
 },
 "nbformat": 4,
 "nbformat_minor": 5
}
