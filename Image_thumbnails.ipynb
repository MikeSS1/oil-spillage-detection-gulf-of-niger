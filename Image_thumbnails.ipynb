{
 "cells": [
  {
   "cell_type": "markdown",
   "id": "37954bcc",
   "metadata": {},
   "source": [
    "<a href=\"https://githubtocolab.com/gee-community/geemap/blob/master/examples/notebooks/template.ipynb\" target=\"_parent\"><img src=\"https://colab.research.google.com/assets/colab-badge.svg\" alt=\"Open in Colab\"/></a>\n",
    "\n",
    "Uncomment the following line to install [geemap](https://geemap.org) if needed."
   ]
  },
  {
   "cell_type": "code",
   "execution_count": 47,
   "id": "e4bd5081",
   "metadata": {},
   "outputs": [
    {
     "name": "stdout",
     "output_type": "stream",
     "text": [
      "Requirement already satisfied: Pillow in c:\\users\\hp\\anaconda3\\lib\\site-packages (9.4.0)\n"
     ]
    }
   ],
   "source": [
    "!pip install Pillow"
   ]
  },
  {
   "cell_type": "markdown",
   "id": "5368f691",
   "metadata": {},
   "source": [
    "## How to download image thumbnails from an ImageCollection"
   ]
  },
  {
   "cell_type": "code",
   "execution_count": 1,
   "id": "81719873",
   "metadata": {},
   "outputs": [
    {
     "ename": "ModuleNotFoundError",
     "evalue": "No module named 'ee'",
     "output_type": "error",
     "traceback": [
      "\u001B[1;31m---------------------------------------------------------------------------\u001B[0m",
      "\u001B[1;31mModuleNotFoundError\u001B[0m                       Traceback (most recent call last)",
      "Cell \u001B[1;32mIn[1], line 2\u001B[0m\n\u001B[0;32m      1\u001B[0m \u001B[38;5;28;01mimport\u001B[39;00m \u001B[38;5;21;01mos\u001B[39;00m\n\u001B[1;32m----> 2\u001B[0m \u001B[38;5;28;01mimport\u001B[39;00m \u001B[38;5;21;01mee\u001B[39;00m\n\u001B[0;32m      3\u001B[0m \u001B[38;5;28;01mimport\u001B[39;00m \u001B[38;5;21;01mgeemap\u001B[39;00m\n\u001B[0;32m      4\u001B[0m \u001B[38;5;28;01mfrom\u001B[39;00m \u001B[38;5;21;01mPIL\u001B[39;00m \u001B[38;5;28;01mimport\u001B[39;00m Image  \u001B[38;5;66;03m# Import the Image module from Pillow\u001B[39;00m\n",
      "\u001B[1;31mModuleNotFoundError\u001B[0m: No module named 'ee'"
     ]
    }
   ],
   "source": [
    "import os\n",
    "import ee\n",
    "import geemap\n",
    "from PIL import Image  # Import the Image module from Pillow"
   ]
  },
  {
   "cell_type": "code",
   "execution_count": null,
   "id": "1221c784",
   "metadata": {},
   "outputs": [],
   "source": [
    "Map = geemap.Map()"
   ]
  },
  {
   "cell_type": "code",
   "execution_count": 52,
   "id": "f389ccf3",
   "metadata": {},
   "outputs": [
    {
     "data": {
      "application/vnd.jupyter.widget-view+json": {
       "model_id": "31effd598f134aeda1bc35ee8ca20dbe",
       "version_major": 2,
       "version_minor": 0
      },
      "text/plain": [
       "Map(bottom=128401.0, center=[4.076603719003472, 6.154403686523438], controls=(WidgetControl(options=['position…"
      ]
     },
     "execution_count": 52,
     "metadata": {},
     "output_type": "execute_result"
    }
   ],
   "source": [
    "collection = (\n",
    "    ee.ImageCollection('COPERNICUS/S1_GRD')\n",
    "    .filterBounds(roi)\n",
    "    .filter(ee.Filter.listContains('transmitterReceiverPolarisation', 'VV'))\n",
    "    .filter(ee.Filter.eq('instrumentMode', 'IW'))\n",
    "    .filter(ee.Filter.date('2020-08-01', '2020-09-15'))  # Adjust the date range as needed\n",
    "    .filter(ee.Filter.eq('orbitProperties_pass', 'ASCENDING'))  # Or 'DESCENDING' as needed\n",
    ")\n",
    "\n",
    "image = collection.mean()  # You can adjust this to select a specific image\n",
    "Map"
   ]
  },
  {
   "cell_type": "code",
   "execution_count": 46,
   "id": "bdd23467",
   "metadata": {
    "scrolled": false
   },
   "outputs": [
    {
     "data": {
      "application/vnd.jupyter.widget-view+json": {
       "model_id": "31effd598f134aeda1bc35ee8ca20dbe",
       "version_major": 2,
       "version_minor": 0
      },
      "text/plain": [
       "Map(bottom=32284.0, center=[4.3, 5.9], controls=(WidgetControl(options=['position', 'transparent_bg'], widget=…"
      ]
     },
     "execution_count": 46,
     "metadata": {},
     "output_type": "execute_result"
    }
   ],
   "source": [
    "# Select the VV band for visualization\n",
    "vv_band = image.select('VV')\n",
    "\n",
    "# Visualize the SAR image without a color palette\n",
    "vis_params = {\n",
    "    'min': -25,\n",
    "    'max': 5,\n",
    "}\n",
    "\n",
    "Map.addLayer(vv_band, vis_params, \"SAR VV Image\")\n",
    "\n",
    "# Set a lower zoom level\n",
    "Map.setCenter(5.9, 4.3, 8)  # Adjust the zoom level\n",
    "Map"
   ]
  },
  {
   "cell_type": "code",
   "execution_count": 48,
   "id": "8b60d4c4",
   "metadata": {},
   "outputs": [
    {
     "name": "stdout",
     "output_type": "stream",
     "text": [
      "Total number of images: 30\n",
      "\n",
      "Downloading 1/30: S1A_IW_GRDH_1SDV_20200910T175255_20200910T175320_034300_03FCA5_F8C1.jpg ...\n",
      "Downloading 2/30: S1A_IW_GRDH_1SDV_20200922T175255_20200922T175320_034475_0402ED_407C.jpg ...\n",
      "Downloading 3/30: S1A_IW_GRDH_1SDV_20201004T175255_20201004T175320_034650_04090F_192F.jpg ...\n",
      "Downloading 4/30: S1A_IW_GRDH_1SDV_20201016T175255_20201016T175320_034825_040F22_8017.jpg ...\n",
      "Downloading 5/30: S1A_IW_GRDH_1SDV_20201028T175255_20201028T175320_035000_04152A_8E23.jpg ...\n",
      "Downloading 6/30: S1A_IW_GRDH_1SDV_20201109T175255_20201109T175320_035175_041B33_88A1.jpg ...\n",
      "Downloading 7/30: S1A_IW_GRDH_1SDV_20201121T175255_20201121T175320_035350_04214D_0B15.jpg ...\n",
      "Downloading 8/30: S1A_IW_GRDH_1SDV_20201203T175254_20201203T175319_035525_04274C_8777.jpg ...\n",
      "Downloading 9/30: S1A_IW_GRDH_1SDV_20201215T175254_20201215T175319_035700_042D5B_DDCF.jpg ...\n",
      "Downloading 10/30: S1A_IW_GRDH_1SDV_20201227T175253_20201227T175318_035875_04336F_42A9.jpg ...\n",
      "Downloading 11/30: S1A_IW_GRDH_1SDV_20210108T175253_20210108T175318_036050_043983_78CA.jpg ...\n",
      "Downloading 12/30: S1A_IW_GRDH_1SDV_20210120T175252_20210120T175317_036225_043FAB_70E6.jpg ...\n",
      "Downloading 13/30: S1A_IW_GRDH_1SDV_20210201T175252_20210201T175317_036400_0445BA_3A48.jpg ...\n",
      "Downloading 14/30: S1A_IW_GRDH_1SDV_20210213T175252_20210213T175317_036575_044BCD_3716.jpg ...\n",
      "Downloading 15/30: S1A_IW_GRDH_1SDV_20210309T175251_20210309T175316_036925_0457FE_FD38.jpg ...\n",
      "Downloading 16/30: S1A_IW_GRDH_1SDV_20210321T175252_20210321T175317_037100_045E1D_E3B7.jpg ...\n",
      "Downloading 17/30: S1A_IW_GRDH_1SDV_20210402T175252_20210402T175317_037275_046425_F3A7.jpg ...\n",
      "Downloading 18/30: S1A_IW_GRDH_1SDV_20210414T175252_20210414T175317_037450_046A33_A2A2.jpg ...\n",
      "Downloading 19/30: S1A_IW_GRDH_1SDV_20210426T175253_20210426T175318_037625_04703B_20E8.jpg ...\n",
      "Downloading 20/30: S1A_IW_GRDH_1SDV_20210508T175253_20210508T175318_037800_04761C_1E1A.jpg ...\n",
      "Downloading 21/30: S1A_IW_GRDH_1SDV_20210520T175254_20210520T175319_037975_047B68_5DC9.jpg ...\n",
      "Downloading 22/30: S1A_IW_GRDH_1SDV_20210601T175255_20210601T175320_038150_0480AD_CF55.jpg ...\n",
      "Downloading 23/30: S1A_IW_GRDH_1SDV_20210613T175256_20210613T175321_038325_0485D9_7E33.jpg ...\n",
      "Downloading 24/30: S1A_IW_GRDH_1SDV_20210625T175256_20210625T175321_038500_048B14_1E15.jpg ...\n",
      "Downloading 25/30: S1A_IW_GRDH_1SDV_20210707T175257_20210707T175322_038675_04905A_E602.jpg ...\n",
      "Downloading 26/30: S1A_IW_GRDH_1SDV_20210719T175258_20210719T175323_038850_049598_FE38.jpg ...\n",
      "Downloading 27/30: S1A_IW_GRDH_1SDV_20210731T175258_20210731T175323_039025_049ACB_0344.jpg ...\n",
      "Downloading 28/30: S1A_IW_GRDH_1SDV_20210812T175259_20210812T175324_039200_04A095_3CC2.jpg ...\n",
      "Downloading 29/30: S1A_IW_GRDH_1SDV_20210824T175300_20210824T175325_039375_04A69F_9D2A.jpg ...\n",
      "Downloading 30/30: S1A_IW_GRDH_1SDV_20210905T175300_20210905T175325_039550_04ACA5_4FE3.jpg ...\n"
     ]
    },
    {
     "ename": "NameError",
     "evalue": "name 'Image' is not defined",
     "output_type": "error",
     "traceback": [
      "\u001B[1;31m---------------------------------------------------------------------------\u001B[0m",
      "\u001B[1;31mNameError\u001B[0m                                 Traceback (most recent call last)",
      "Cell \u001B[1;32mIn[48], line 12\u001B[0m\n\u001B[0;32m      7\u001B[0m geemap\u001B[38;5;241m.\u001B[39mget_image_collection_thumbnails(\n\u001B[0;32m      8\u001B[0m     collection, out_dir, vis_params, dimensions\u001B[38;5;241m=\u001B[39m\u001B[38;5;241m500\u001B[39m, \u001B[38;5;28mformat\u001B[39m\u001B[38;5;241m=\u001B[39m\u001B[38;5;124m\"\u001B[39m\u001B[38;5;124mjpg\u001B[39m\u001B[38;5;124m\"\u001B[39m\n\u001B[0;32m      9\u001B[0m )\n\u001B[0;32m     11\u001B[0m \u001B[38;5;66;03m# Open and display the downloaded thumbnail\u001B[39;00m\n\u001B[1;32m---> 12\u001B[0m thumbnail_image \u001B[38;5;241m=\u001B[39m Image\u001B[38;5;241m.\u001B[39mopen(out_img)\n\u001B[0;32m     13\u001B[0m thumbnail_image\u001B[38;5;241m.\u001B[39mshow()\n\u001B[0;32m     15\u001B[0m Map\n",
      "\u001B[1;31mNameError\u001B[0m: name 'Image' is not defined"
     ]
    }
   ],
   "source": [
    "out_img = os.path.expanduser(\"~/Downloads/sar3.png\")\n",
    "\n",
    "geemap.get_image_thumbnail(vv_band, out_img, vis_params, dimensions=500, format='png')\n",
    "\n",
    "out_dir = os.path.expanduser(\"~/Downloads\")\n",
    "\n",
    "geemap.get_image_collection_thumbnails(\n",
    "    collection, out_dir, vis_params, dimensions=500, format=\"jpg\"\n",
    ")\n",
    "\n",
    "# Open and display the downloaded thumbnail\n",
    "thumbnail_image = Image.open(out_img)\n",
    "thumbnail_image.show()\n",
    "\n",
    "Map"
   ]
  },
  {
   "cell_type": "code",
   "execution_count": 50,
   "id": "3741285a",
   "metadata": {},
   "outputs": [
    {
     "data": {
      "application/vnd.jupyter.widget-view+json": {
       "model_id": "31effd598f134aeda1bc35ee8ca20dbe",
       "version_major": 2,
       "version_minor": 0
      },
      "text/plain": [
       "Map(bottom=64373.0, center=[4.01495962755744, 6.387176513671875], controls=(WidgetControl(options=['position',…"
      ]
     },
     "execution_count": 50,
     "metadata": {},
     "output_type": "execute_result"
    }
   ],
   "source": [
    "# Open and display the downloaded thumbnail\n",
    "thumbnail_image = Image.open(out_img)\n",
    "thumbnail_image.show()\n",
    "\n",
    "Map"
   ]
  },
  {
   "cell_type": "code",
   "execution_count": null,
   "id": "486474e3",
   "metadata": {},
   "outputs": [],
   "source": []
  }
 ],
 "metadata": {
  "kernelspec": {
   "display_name": "Python 3 (ipykernel)",
   "language": "python",
   "name": "python3"
  },
  "language_info": {
   "codemirror_mode": {
    "name": "ipython",
    "version": 3
   },
   "file_extension": ".py",
   "mimetype": "text/x-python",
   "name": "python",
   "nbconvert_exporter": "python",
   "pygments_lexer": "ipython3",
   "version": "3.11.4"
  }
 },
 "nbformat": 4,
 "nbformat_minor": 5
}
